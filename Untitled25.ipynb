{
  "nbformat": 4,
  "nbformat_minor": 0,
  "metadata": {
    "colab": {
      "provenance": [],
      "authorship_tag": "ABX9TyOhxskdRxqeFjj8q5O6kul/",
      "include_colab_link": true
    },
    "kernelspec": {
      "name": "python3",
      "display_name": "Python 3"
    },
    "language_info": {
      "name": "python"
    }
  },
  "cells": [
    {
      "cell_type": "markdown",
      "metadata": {
        "id": "view-in-github",
        "colab_type": "text"
      },
      "source": [
        "<a href=\"https://colab.research.google.com/github/Afrin1006/S.Afrin-Banu/blob/main/Untitled25.ipynb\" target=\"_parent\"><img src=\"https://colab.research.google.com/assets/colab-badge.svg\" alt=\"Open In Colab\"/></a>"
      ]
    },
    {
      "cell_type": "code",
      "execution_count": 3,
      "metadata": {
        "colab": {
          "base_uri": "https://localhost:8080/",
          "height": 106
        },
        "id": "vUn_Jlm6Z8Y6",
        "outputId": "884fe802-d29a-4385-8f96-618b5f16299c"
      },
      "outputs": [
        {
          "output_type": "error",
          "ename": "SyntaxError",
          "evalue": "invalid syntax. Perhaps you forgot a comma? (<ipython-input-3-cb83b1c0390b>, line 1)",
          "traceback": [
            "\u001b[0;36m  File \u001b[0;32m\"<ipython-input-3-cb83b1c0390b>\"\u001b[0;36m, line \u001b[0;32m1\u001b[0m\n\u001b[0;31m    matrix1 = [[20,30,40]\u001b[0m\n\u001b[0m               ^\u001b[0m\n\u001b[0;31mSyntaxError\u001b[0m\u001b[0;31m:\u001b[0m invalid syntax. Perhaps you forgot a comma?\n"
          ]
        }
      ],
      "source": [
        "matrix1 = [[20,30,40]\n",
        "matrix2 = [12,15,25]]\n",
        "result = [[0 for _ in range(len(matrix1[0]))] for _ in range(len(matrix1))]\n",
        "for i in range(len(matrix1)):\n",
        "   for j in range(len(matrix1[0])):\n",
        "       result[i][j] = matrix1[i][j] - matrix2[i][j]\n",
        "       print(result)\n"
      ]
    },
    {
      "cell_type": "markdown",
      "source": [
        "**DIFFERENCE OF MATRIX**"
      ],
      "metadata": {
        "id": "O9nmUJgibLBK"
      }
    },
    {
      "cell_type": "code",
      "source": [
        "matrix1 = [[20,30,40]]\n",
        "matrix2 = [[12,15,25]]\n",
        "result = [[0 for _ in range(len(matrix1[0]))] for _ in range(len(matrix1))]\n",
        "for i in range(len(matrix1)):\n",
        "   for j in range(len(matrix1[0])):\n",
        "       result[i][j] = matrix1[i][j] - matrix2[i][j]\n",
        "       print(result)\n"
      ],
      "metadata": {
        "colab": {
          "base_uri": "https://localhost:8080/"
        },
        "id": "Ts7oGjtybTZ5",
        "outputId": "2c367ba9-13ee-45d9-f9aa-e309aa151921"
      },
      "execution_count": 4,
      "outputs": [
        {
          "output_type": "stream",
          "name": "stdout",
          "text": [
            "[[8, 0, 0]]\n",
            "[[8, 15, 0]]\n",
            "[[8, 15, 15]]\n"
          ]
        }
      ]
    },
    {
      "cell_type": "code",
      "source": [],
      "metadata": {
        "id": "W_YpSlLsil-I"
      },
      "execution_count": null,
      "outputs": []
    }
  ]
}